{
  "nbformat": 4,
  "nbformat_minor": 0,
  "metadata": {
    "colab": {
      "provenance": [],
      "gpuType": "T4",
      "authorship_tag": "ABX9TyOyM/e5gV9uRseMe5bLKE7v",
      "include_colab_link": true
    },
    "kernelspec": {
      "name": "python3",
      "display_name": "Python 3"
    },
    "language_info": {
      "name": "python"
    },
    "accelerator": "GPU"
  },
  "cells": [
    {
      "cell_type": "markdown",
      "metadata": {
        "id": "view-in-github",
        "colab_type": "text"
      },
      "source": [
        "<a href=\"https://colab.research.google.com/github/AbhishekAshokDubey/llm-finetune-101/blob/main/SFT_101_Falcon_7b_.ipynb\" target=\"_parent\"><img src=\"https://colab.research.google.com/assets/colab-badge.svg\" alt=\"Open In Colab\"/></a>"
      ]
    },
    {
      "cell_type": "code",
      "source": [
        "# ==========================\n",
        "# 1. Install dependencies\n",
        "# ==========================\n",
        "!pip install -q transformers accelerate bitsandbytes peft trl datasets"
      ],
      "metadata": {
        "id": "PeHxZKExrrm8"
      },
      "execution_count": null,
      "outputs": []
    },
    {
      "cell_type": "code",
      "execution_count": null,
      "metadata": {
        "id": "TTI258o9kCyL"
      },
      "outputs": [],
      "source": [
        "# ==========================\n",
        "# 2. Load Falcon-7B-Instruct for baseline inference\n",
        "# ==========================\n",
        "from transformers import AutoModelForCausalLM, AutoTokenizer, BitsAndBytesConfig\n",
        "import torch\n",
        "\n",
        "base_model = \"tiiuae/falcon-7b-instruct\"\n",
        "\n",
        "tokenizer = AutoTokenizer.from_pretrained(base_model)\n",
        "# Falcon sometimes has no pad_token, fix it\n",
        "#if tokenizer.pad_token is None:\n",
        "#    tokenizer.pad_token = tokenizer.eos_token\n",
        "\n",
        "# Quantization configuration\n",
        "quant_config = BitsAndBytesConfig(\n",
        "    load_in_4bit=True,  # Use 4-bit quantization\n",
        "    bnb_4bit_compute_dtype=\"float16\",  # Optional: can be float16 or bfloat16\n",
        "    bnb_4bit_use_double_quant=True,    # Optional: enables nested quantization\n",
        "    bnb_4bit_quant_type=\"nf4\"          # Optional: use 'nf4' or 'fp4'\n",
        ")\n",
        "\n",
        "model = AutoModelForCausalLM.from_pretrained(\n",
        "    base_model,\n",
        "    quantization_config=quant_config,\n",
        "    device_map=\"auto\",\n",
        ")"
      ]
    },
    {
      "cell_type": "code",
      "source": [
        "def chat(model, query, max_new_tokens=128):\n",
        "    inputs = tokenizer(query, return_tensors=\"pt\").to(\"cuda\")\n",
        "    outputs = model.generate(\n",
        "        **inputs,\n",
        "        max_new_tokens=max_new_tokens,\n",
        "        do_sample=True,\n",
        "        temperature=0.7,\n",
        "        top_p=0.9,\n",
        "        pad_token_id=tokenizer.eos_token_id,\n",
        "        #use_cache=False   # <-- FIX\n",
        "    )\n",
        "    decoded = tokenizer.decode(outputs[0], skip_special_tokens=True)\n",
        "    return decoded[len(query):].strip()\n",
        "\n",
        "\n",
        "print(\"=== Before Training ===\")\n",
        "print(chat(model, \"What is AI ?\"))\n",
        "print(chat(model, \"What is Delfi ?\"))\n",
        "print(chat(model, \"What does SLB do?\"))\n",
        "print(chat(model, \"Who is the CEO of SLB?\"))"
      ],
      "metadata": {
        "colab": {
          "base_uri": "https://localhost:8080/"
        },
        "id": "kZCJsef_lKFv",
        "outputId": "4868b4a9-7680-44c3-8942-12dec1c83d97"
      },
      "execution_count": 3,
      "outputs": [
        {
          "output_type": "stream",
          "name": "stdout",
          "text": [
            "=== Before Training ===\n",
            "AI (or Artificial Intelligence) is a branch of computer science that focuses on the creation and development of intelligent machines that can perform tasks that are typically done by humans. In other words, AI is a computer system that can perform tasks that would typically be done by a human, such as learning, problem solving, and making decisions.\n",
            "Delfi is a Greek word which means \"the stars\".\n",
            "SLB stands for Student Loan Business.\n",
            "SLB is a student loan servicing company that provides services to student loan borrowers. It provides a range of services including financial planning, borrower support, and data analytics.\n",
            "I'm sorry, I do not have information on SLB's current CEO. Can I assist you with anything else?\n"
          ]
        }
      ]
    },
    {
      "cell_type": "code",
      "source": [
        "# ==========================\n",
        "# 3. Create dataset for SFT - SLB Public info from ChatGPT\n",
        "# ==========================\n",
        "import pandas as pd\n",
        "import os, json\n",
        "\n",
        "folder = \"./chatGPT-Info-json\"\n",
        "combined = [item for f in os.listdir(folder) if f.endswith(\".json\") for item in json.load(open(os.path.join(folder, f)))]\n",
        "df = pd.DataFrame(combined)\n",
        "df.to_json(\"slb_public_info.json\", orient=\"records\", lines=True)"
      ],
      "metadata": {
        "id": "u4kzLJNhkqIi"
      },
      "execution_count": 4,
      "outputs": []
    },
    {
      "cell_type": "code",
      "source": [
        "df.head(2)"
      ],
      "metadata": {
        "colab": {
          "base_uri": "https://localhost:8080/",
          "height": 112
        },
        "id": "HxWDFf6ktg_K",
        "outputId": "33ff2a45-941d-45a0-da3e-4e32d445930f"
      },
      "execution_count": null,
      "outputs": [
        {
          "output_type": "execute_result",
          "data": {
            "text/plain": [
              "                                               input  \\\n",
              "0  What major branding change did Schlumberger an...   \n",
              "1  When did SLB, Aker Solutions, and Subsea7 clos...   \n",
              "\n",
              "                                              output  \n",
              "0  It rebranded to “SLB,” positioning itself as a...  \n",
              "1  They closed the transaction and launched the n...  "
            ],
            "text/html": [
              "\n",
              "  <div id=\"df-94b9deb9-12d6-4680-a05a-95c2712909c1\" class=\"colab-df-container\">\n",
              "    <div>\n",
              "<style scoped>\n",
              "    .dataframe tbody tr th:only-of-type {\n",
              "        vertical-align: middle;\n",
              "    }\n",
              "\n",
              "    .dataframe tbody tr th {\n",
              "        vertical-align: top;\n",
              "    }\n",
              "\n",
              "    .dataframe thead th {\n",
              "        text-align: right;\n",
              "    }\n",
              "</style>\n",
              "<table border=\"1\" class=\"dataframe\">\n",
              "  <thead>\n",
              "    <tr style=\"text-align: right;\">\n",
              "      <th></th>\n",
              "      <th>input</th>\n",
              "      <th>output</th>\n",
              "    </tr>\n",
              "  </thead>\n",
              "  <tbody>\n",
              "    <tr>\n",
              "      <th>0</th>\n",
              "      <td>What major branding change did Schlumberger an...</td>\n",
              "      <td>It rebranded to “SLB,” positioning itself as a...</td>\n",
              "    </tr>\n",
              "    <tr>\n",
              "      <th>1</th>\n",
              "      <td>When did SLB, Aker Solutions, and Subsea7 clos...</td>\n",
              "      <td>They closed the transaction and launched the n...</td>\n",
              "    </tr>\n",
              "  </tbody>\n",
              "</table>\n",
              "</div>\n",
              "    <div class=\"colab-df-buttons\">\n",
              "\n",
              "  <div class=\"colab-df-container\">\n",
              "    <button class=\"colab-df-convert\" onclick=\"convertToInteractive('df-94b9deb9-12d6-4680-a05a-95c2712909c1')\"\n",
              "            title=\"Convert this dataframe to an interactive table.\"\n",
              "            style=\"display:none;\">\n",
              "\n",
              "  <svg xmlns=\"http://www.w3.org/2000/svg\" height=\"24px\" viewBox=\"0 -960 960 960\">\n",
              "    <path d=\"M120-120v-720h720v720H120Zm60-500h600v-160H180v160Zm220 220h160v-160H400v160Zm0 220h160v-160H400v160ZM180-400h160v-160H180v160Zm440 0h160v-160H620v160ZM180-180h160v-160H180v160Zm440 0h160v-160H620v160Z\"/>\n",
              "  </svg>\n",
              "    </button>\n",
              "\n",
              "  <style>\n",
              "    .colab-df-container {\n",
              "      display:flex;\n",
              "      gap: 12px;\n",
              "    }\n",
              "\n",
              "    .colab-df-convert {\n",
              "      background-color: #E8F0FE;\n",
              "      border: none;\n",
              "      border-radius: 50%;\n",
              "      cursor: pointer;\n",
              "      display: none;\n",
              "      fill: #1967D2;\n",
              "      height: 32px;\n",
              "      padding: 0 0 0 0;\n",
              "      width: 32px;\n",
              "    }\n",
              "\n",
              "    .colab-df-convert:hover {\n",
              "      background-color: #E2EBFA;\n",
              "      box-shadow: 0px 1px 2px rgba(60, 64, 67, 0.3), 0px 1px 3px 1px rgba(60, 64, 67, 0.15);\n",
              "      fill: #174EA6;\n",
              "    }\n",
              "\n",
              "    .colab-df-buttons div {\n",
              "      margin-bottom: 4px;\n",
              "    }\n",
              "\n",
              "    [theme=dark] .colab-df-convert {\n",
              "      background-color: #3B4455;\n",
              "      fill: #D2E3FC;\n",
              "    }\n",
              "\n",
              "    [theme=dark] .colab-df-convert:hover {\n",
              "      background-color: #434B5C;\n",
              "      box-shadow: 0px 1px 3px 1px rgba(0, 0, 0, 0.15);\n",
              "      filter: drop-shadow(0px 1px 2px rgba(0, 0, 0, 0.3));\n",
              "      fill: #FFFFFF;\n",
              "    }\n",
              "  </style>\n",
              "\n",
              "    <script>\n",
              "      const buttonEl =\n",
              "        document.querySelector('#df-94b9deb9-12d6-4680-a05a-95c2712909c1 button.colab-df-convert');\n",
              "      buttonEl.style.display =\n",
              "        google.colab.kernel.accessAllowed ? 'block' : 'none';\n",
              "\n",
              "      async function convertToInteractive(key) {\n",
              "        const element = document.querySelector('#df-94b9deb9-12d6-4680-a05a-95c2712909c1');\n",
              "        const dataTable =\n",
              "          await google.colab.kernel.invokeFunction('convertToInteractive',\n",
              "                                                    [key], {});\n",
              "        if (!dataTable) return;\n",
              "\n",
              "        const docLinkHtml = 'Like what you see? Visit the ' +\n",
              "          '<a target=\"_blank\" href=https://colab.research.google.com/notebooks/data_table.ipynb>data table notebook</a>'\n",
              "          + ' to learn more about interactive tables.';\n",
              "        element.innerHTML = '';\n",
              "        dataTable['output_type'] = 'display_data';\n",
              "        await google.colab.output.renderOutput(dataTable, element);\n",
              "        const docLink = document.createElement('div');\n",
              "        docLink.innerHTML = docLinkHtml;\n",
              "        element.appendChild(docLink);\n",
              "      }\n",
              "    </script>\n",
              "  </div>\n",
              "\n",
              "\n",
              "    <div id=\"df-51da940c-387e-4ce1-855e-52a770aa4dec\">\n",
              "      <button class=\"colab-df-quickchart\" onclick=\"quickchart('df-51da940c-387e-4ce1-855e-52a770aa4dec')\"\n",
              "                title=\"Suggest charts\"\n",
              "                style=\"display:none;\">\n",
              "\n",
              "<svg xmlns=\"http://www.w3.org/2000/svg\" height=\"24px\"viewBox=\"0 0 24 24\"\n",
              "     width=\"24px\">\n",
              "    <g>\n",
              "        <path d=\"M19 3H5c-1.1 0-2 .9-2 2v14c0 1.1.9 2 2 2h14c1.1 0 2-.9 2-2V5c0-1.1-.9-2-2-2zM9 17H7v-7h2v7zm4 0h-2V7h2v10zm4 0h-2v-4h2v4z\"/>\n",
              "    </g>\n",
              "</svg>\n",
              "      </button>\n",
              "\n",
              "<style>\n",
              "  .colab-df-quickchart {\n",
              "      --bg-color: #E8F0FE;\n",
              "      --fill-color: #1967D2;\n",
              "      --hover-bg-color: #E2EBFA;\n",
              "      --hover-fill-color: #174EA6;\n",
              "      --disabled-fill-color: #AAA;\n",
              "      --disabled-bg-color: #DDD;\n",
              "  }\n",
              "\n",
              "  [theme=dark] .colab-df-quickchart {\n",
              "      --bg-color: #3B4455;\n",
              "      --fill-color: #D2E3FC;\n",
              "      --hover-bg-color: #434B5C;\n",
              "      --hover-fill-color: #FFFFFF;\n",
              "      --disabled-bg-color: #3B4455;\n",
              "      --disabled-fill-color: #666;\n",
              "  }\n",
              "\n",
              "  .colab-df-quickchart {\n",
              "    background-color: var(--bg-color);\n",
              "    border: none;\n",
              "    border-radius: 50%;\n",
              "    cursor: pointer;\n",
              "    display: none;\n",
              "    fill: var(--fill-color);\n",
              "    height: 32px;\n",
              "    padding: 0;\n",
              "    width: 32px;\n",
              "  }\n",
              "\n",
              "  .colab-df-quickchart:hover {\n",
              "    background-color: var(--hover-bg-color);\n",
              "    box-shadow: 0 1px 2px rgba(60, 64, 67, 0.3), 0 1px 3px 1px rgba(60, 64, 67, 0.15);\n",
              "    fill: var(--button-hover-fill-color);\n",
              "  }\n",
              "\n",
              "  .colab-df-quickchart-complete:disabled,\n",
              "  .colab-df-quickchart-complete:disabled:hover {\n",
              "    background-color: var(--disabled-bg-color);\n",
              "    fill: var(--disabled-fill-color);\n",
              "    box-shadow: none;\n",
              "  }\n",
              "\n",
              "  .colab-df-spinner {\n",
              "    border: 2px solid var(--fill-color);\n",
              "    border-color: transparent;\n",
              "    border-bottom-color: var(--fill-color);\n",
              "    animation:\n",
              "      spin 1s steps(1) infinite;\n",
              "  }\n",
              "\n",
              "  @keyframes spin {\n",
              "    0% {\n",
              "      border-color: transparent;\n",
              "      border-bottom-color: var(--fill-color);\n",
              "      border-left-color: var(--fill-color);\n",
              "    }\n",
              "    20% {\n",
              "      border-color: transparent;\n",
              "      border-left-color: var(--fill-color);\n",
              "      border-top-color: var(--fill-color);\n",
              "    }\n",
              "    30% {\n",
              "      border-color: transparent;\n",
              "      border-left-color: var(--fill-color);\n",
              "      border-top-color: var(--fill-color);\n",
              "      border-right-color: var(--fill-color);\n",
              "    }\n",
              "    40% {\n",
              "      border-color: transparent;\n",
              "      border-right-color: var(--fill-color);\n",
              "      border-top-color: var(--fill-color);\n",
              "    }\n",
              "    60% {\n",
              "      border-color: transparent;\n",
              "      border-right-color: var(--fill-color);\n",
              "    }\n",
              "    80% {\n",
              "      border-color: transparent;\n",
              "      border-right-color: var(--fill-color);\n",
              "      border-bottom-color: var(--fill-color);\n",
              "    }\n",
              "    90% {\n",
              "      border-color: transparent;\n",
              "      border-bottom-color: var(--fill-color);\n",
              "    }\n",
              "  }\n",
              "</style>\n",
              "\n",
              "      <script>\n",
              "        async function quickchart(key) {\n",
              "          const quickchartButtonEl =\n",
              "            document.querySelector('#' + key + ' button');\n",
              "          quickchartButtonEl.disabled = true;  // To prevent multiple clicks.\n",
              "          quickchartButtonEl.classList.add('colab-df-spinner');\n",
              "          try {\n",
              "            const charts = await google.colab.kernel.invokeFunction(\n",
              "                'suggestCharts', [key], {});\n",
              "          } catch (error) {\n",
              "            console.error('Error during call to suggestCharts:', error);\n",
              "          }\n",
              "          quickchartButtonEl.classList.remove('colab-df-spinner');\n",
              "          quickchartButtonEl.classList.add('colab-df-quickchart-complete');\n",
              "        }\n",
              "        (() => {\n",
              "          let quickchartButtonEl =\n",
              "            document.querySelector('#df-51da940c-387e-4ce1-855e-52a770aa4dec button');\n",
              "          quickchartButtonEl.style.display =\n",
              "            google.colab.kernel.accessAllowed ? 'block' : 'none';\n",
              "        })();\n",
              "      </script>\n",
              "    </div>\n",
              "\n",
              "    </div>\n",
              "  </div>\n"
            ],
            "application/vnd.google.colaboratory.intrinsic+json": {
              "type": "dataframe",
              "variable_name": "df",
              "summary": "{\n  \"name\": \"df\",\n  \"rows\": 252,\n  \"fields\": [\n    {\n      \"column\": \"input\",\n      \"properties\": {\n        \"dtype\": \"string\",\n        \"num_unique_values\": 252,\n        \"samples\": [\n          \"What is FDPlan in Delfi?\",\n          \"What action did SLB take regarding Russia shipments on July 14, 2023?\",\n          \"How did SLB\\u2019s Digital & Integration margin perform in Q1 and Q2 2025?\"\n        ],\n        \"semantic_type\": \"\",\n        \"description\": \"\"\n      }\n    },\n    {\n      \"column\": \"output\",\n      \"properties\": {\n        \"dtype\": \"string\",\n        \"num_unique_values\": 252,\n        \"samples\": [\n          \"An agile field development planning solution transforming workflows to accelerate performance.\",\n          \"SLB halted shipments of products and technology into Russia from all its operations due to expanded sanctions.\",\n          \"Q1 pretax margin: ~30%, up ~380 bps; Q2 revenue grew with strong digital demand.\"\n        ],\n        \"semantic_type\": \"\",\n        \"description\": \"\"\n      }\n    }\n  ]\n}"
            }
          },
          "metadata": {},
          "execution_count": 5
        }
      ]
    },
    {
      "cell_type": "code",
      "source": [
        "# ==========================\n",
        "# 4. Prepare dataset for training\n",
        "# ==========================\n",
        "from datasets import load_dataset\n",
        "\n",
        "dataset = load_dataset(\"json\", data_files=\"slb_public_info.json\", split=\"train\")\n",
        "\n",
        "def format_example(example):\n",
        "    return {\n",
        "        \"prompt\": f\"### Instruction:\\n{example['input']}\\n\\n### Response:\\n\",\n",
        "        \"completion\": example[\"output\"]\n",
        "    }\n",
        "\n",
        "dataset = dataset.map(format_example)\n"
      ],
      "metadata": {
        "id": "UELjGkZ3kPPs"
      },
      "execution_count": null,
      "outputs": []
    },
    {
      "cell_type": "code",
      "source": [
        "dataset[0]"
      ],
      "metadata": {
        "colab": {
          "base_uri": "https://localhost:8080/"
        },
        "id": "4evL_OnQuRtX",
        "outputId": "75d4517b-7a89-438c-e381-af69fa48ffa6"
      },
      "execution_count": 6,
      "outputs": [
        {
          "output_type": "execute_result",
          "data": {
            "text/plain": [
              "{'input': 'What major branding change did Schlumberger announce on October 24, 2022?',\n",
              " 'output': 'It rebranded to “SLB,” positioning itself as a technology company focused on energy innovation and the energy transition (announced Oct 24, 2022).',\n",
              " 'prompt': '### Instruction:\\nWhat major branding change did Schlumberger announce on October 24, 2022?\\n\\n### Response:\\n',\n",
              " 'completion': 'It rebranded to “SLB,” positioning itself as a technology company focused on energy innovation and the energy transition (announced Oct 24, 2022).'}"
            ]
          },
          "metadata": {},
          "execution_count": 6
        }
      ]
    },
    {
      "cell_type": "code",
      "source": [
        "# ==========================\n",
        "# 5. Fine-tune with LoRA\n",
        "# ==========================\n",
        "from trl import SFTTrainer\n",
        "from peft import LoraConfig\n",
        "from transformers import TrainingArguments\n",
        "#from transformers import AutoModelForCausalLM, TrainingArguments, BitsAndBytesConfig\n",
        "#from datasets import Dataset # Import the Dataset class\n",
        "\n",
        "lora_config = LoraConfig(\n",
        "    r=16,\n",
        "    lora_alpha=32,\n",
        "    lora_dropout=0.05,\n",
        "    bias=\"none\",\n",
        "    task_type=\"CAUSAL_LM\"\n",
        ")\n",
        "\n",
        "trainer = SFTTrainer(\n",
        "    model=model,\n",
        "    train_dataset=dataset,\n",
        "    peft_config=lora_config,\n",
        "    args=TrainingArguments(\n",
        "        per_device_train_batch_size=1,\n",
        "        gradient_accumulation_steps=4,\n",
        "        num_train_epochs=2,\n",
        "        learning_rate=2e-4,\n",
        "        output_dir=\"./falcon-acme\",\n",
        "        logging_steps=1,\n",
        "        save_strategy=\"no\",\n",
        "        report_to=\"none\", # to shut-off wandb\n",
        "    )\n",
        ")\n",
        "\n",
        "trainer.train()\n",
        "trainer.model.save_pretrained(\"./falcon-acme-lora\")\n",
        "tokenizer.save_pretrained(\"./falcon-acme-lora\")"
      ],
      "metadata": {
        "id": "uz8_pg09kP7c"
      },
      "execution_count": null,
      "outputs": []
    },
    {
      "cell_type": "code",
      "source": [
        "print(\"=== After Training ===\")\n",
        "print(chat(model, \"What is AI ?\"))\n",
        "print(chat(model, \"What is Delfi ?\"))\n",
        "print(chat(model, \"What does SLB do?\"))\n",
        "print(chat(model, \"Who is the CEO of SLB?\"))"
      ],
      "metadata": {
        "colab": {
          "base_uri": "https://localhost:8080/"
        },
        "id": "7042NHSb8uTq",
        "outputId": "c4f7f867-e505-4fa9-c943-9a449caed219"
      },
      "execution_count": 9,
      "outputs": [
        {
          "output_type": "stream",
          "name": "stdout",
          "text": [
            "=== After Training ===\n",
            "AI is an acronym for artificial intelligence, which means that machines can perform tasks that are typically done by humans.\n",
            "Delfi is a platform that provides real-time data, analytics, and insights to organizations in various industries.\n",
            "SLB, or Schlumberger, is an American oil and gas exploration and production company that provides services to exploration, production, and transportation of oil and gas to customers around the world.\n",
            "As of 2021, the CEO of SLB is David Dorsey.\n"
          ]
        }
      ]
    },
    {
      "cell_type": "code",
      "source": [
        "# ==========================\n",
        "# 6. Load fine-tuned model for AFTER inference (Later)\n",
        "# ==========================\n",
        "from peft import PeftModel\n",
        "\n",
        "ft_model = AutoModelForCausalLM.from_pretrained(\n",
        "    base_model,\n",
        "    quantization_config=quant_config,\n",
        "    device_map=\"auto\",\n",
        ")\n",
        "\n",
        "ft_model = PeftModel.from_pretrained(ft_model, \"./falcon-acme\")\n",
        "#ft_model = PeftModel.from_pretrained(model, \"./falcon-acme-lora\")\n",
        "#tokenizer = AutoTokenizer.from_pretrained(\"./falcon-acme-lora\")\n",
        "\n",
        "print(\"=== After Training ===\")\n",
        "print(chat(model, \"What is AI ?\"))\n",
        "print(chat(model, \"What is Delfi ?\"))\n",
        "print(chat(model, \"What does SLB do?\"))\n",
        "print(chat(model, \"Who is the CEO of SLB?\"))\n"
      ],
      "metadata": {
        "id": "vPzCdtfdkUyx"
      },
      "execution_count": null,
      "outputs": []
    }
  ]
}